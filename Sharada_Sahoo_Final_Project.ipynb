{
 "cells": [
  {
   "cell_type": "code",
   "execution_count": 7,
   "id": "afde5f0d",
   "metadata": {
    "id": "afde5f0d"
   },
   "outputs": [],
   "source": [
    "import numpy as np\n",
    "import pandas as pd\n",
    "import matplotlib.pyplot as plt\n",
    "from sklearn.model_selection import train_test_split\n",
    "from xgboost import XGBClassifier\n",
    "from sklearn.metrics import roc_curve, roc_auc_score\n",
    "import csv\n",
    "import time\n",
    "from collections import Counter\n",
    "import torch\n",
    "# import ast"
   ]
  },
  {
   "cell_type": "code",
   "execution_count": null,
   "id": "f18cfed0-a5d9-44f4-81f1-1010aad8c503",
   "metadata": {},
   "outputs": [],
   "source": []
  },
  {
   "cell_type": "code",
   "execution_count": 4,
   "id": "e9849946",
   "metadata": {
    "id": "e9849946"
   },
   "outputs": [],
   "source": [
    "cgm_train = pd.read_csv(\"Data/cgm_train.csv\")\n",
    "cgm_test = pd.read_csv(\"Data/cgm_test.csv\")\n",
    "demo_viome_test = pd.read_csv(\"Data/demo_viome_test.csv\")\n",
    "demo_viome_train = pd.read_csv(\"Data/demo_viome_train.csv\")\n",
    "img_train = pd.read_csv(\"Data/img_train.csv\")\n",
    "img_test = pd.read_csv(\"Data/img_test.csv\")\n",
    "label_train = pd.read_csv(\"Data/label_train.csv\")\n",
    "label_test_breakfast_only = pd.read_csv(\"Data/label_test_breakfast_only.csv\")"
   ]
  },
  {
   "cell_type": "markdown",
   "id": "2fca777a",
   "metadata": {
    "id": "2fca777a"
   },
   "source": [
    "## Data visualization"
   ]
  },
  {
   "cell_type": "code",
   "execution_count": 13,
   "id": "d897197d",
   "metadata": {
    "colab": {
     "base_uri": "https://localhost:8080/",
     "height": 424
    },
    "id": "d897197d",
    "outputId": "b048db7d-090d-4273-f914-9e10bafd218b"
   },
   "outputs": [
    {
     "data": {
      "text/html": [
       "<div>\n",
       "<style scoped>\n",
       "    .dataframe tbody tr th:only-of-type {\n",
       "        vertical-align: middle;\n",
       "    }\n",
       "\n",
       "    .dataframe tbody tr th {\n",
       "        vertical-align: top;\n",
       "    }\n",
       "\n",
       "    .dataframe thead th {\n",
       "        text-align: right;\n",
       "    }\n",
       "</style>\n",
       "<table border=\"1\" class=\"dataframe\">\n",
       "  <thead>\n",
       "    <tr style=\"text-align: right;\">\n",
       "      <th></th>\n",
       "      <th>Subject ID</th>\n",
       "      <th>Day</th>\n",
       "      <th>Breakfast Time</th>\n",
       "      <th>Lunch Time</th>\n",
       "      <th>CGM Data</th>\n",
       "    </tr>\n",
       "  </thead>\n",
       "  <tbody>\n",
       "    <tr>\n",
       "      <th>0</th>\n",
       "      <td>1</td>\n",
       "      <td>2</td>\n",
       "      <td>2021-09-19 08:41:00</td>\n",
       "      <td>2021-09-19 12:24:00</td>\n",
       "      <td>[('2021-09-19 08:20:00', 98.26666666666667), (...</td>\n",
       "    </tr>\n",
       "    <tr>\n",
       "      <th>1</th>\n",
       "      <td>1</td>\n",
       "      <td>3</td>\n",
       "      <td>2021-09-20 09:50:00</td>\n",
       "      <td>2021-09-20 15:20:00</td>\n",
       "      <td>[('2021-09-20 09:10:00', 97.18333333333334), (...</td>\n",
       "    </tr>\n",
       "    <tr>\n",
       "      <th>2</th>\n",
       "      <td>1</td>\n",
       "      <td>4</td>\n",
       "      <td>2021-09-21 09:34:00</td>\n",
       "      <td>2021-09-21 13:09:00</td>\n",
       "      <td>[('2021-09-21 09:20:00', 107.36666666666666), ...</td>\n",
       "    </tr>\n",
       "    <tr>\n",
       "      <th>3</th>\n",
       "      <td>1</td>\n",
       "      <td>5</td>\n",
       "      <td>2021-09-22 09:46:00</td>\n",
       "      <td>2021-09-22 13:50:00</td>\n",
       "      <td>[('2021-09-22 09:25:00', 107.28333333333333), ...</td>\n",
       "    </tr>\n",
       "    <tr>\n",
       "      <th>4</th>\n",
       "      <td>1</td>\n",
       "      <td>6</td>\n",
       "      <td>2021-09-23 09:07:00</td>\n",
       "      <td>2021-09-23 13:17:00</td>\n",
       "      <td>[('2021-09-23 08:55:00', 103.0), ('2021-09-23 ...</td>\n",
       "    </tr>\n",
       "  </tbody>\n",
       "</table>\n",
       "</div>"
      ],
      "text/plain": [
       "   Subject ID  Day       Breakfast Time           Lunch Time  \\\n",
       "0           1    2  2021-09-19 08:41:00  2021-09-19 12:24:00   \n",
       "1           1    3  2021-09-20 09:50:00  2021-09-20 15:20:00   \n",
       "2           1    4  2021-09-21 09:34:00  2021-09-21 13:09:00   \n",
       "3           1    5  2021-09-22 09:46:00  2021-09-22 13:50:00   \n",
       "4           1    6  2021-09-23 09:07:00  2021-09-23 13:17:00   \n",
       "\n",
       "                                            CGM Data  \n",
       "0  [('2021-09-19 08:20:00', 98.26666666666667), (...  \n",
       "1  [('2021-09-20 09:10:00', 97.18333333333334), (...  \n",
       "2  [('2021-09-21 09:20:00', 107.36666666666666), ...  \n",
       "3  [('2021-09-22 09:25:00', 107.28333333333333), ...  \n",
       "4  [('2021-09-23 08:55:00', 103.0), ('2021-09-23 ...  "
      ]
     },
     "execution_count": 13,
     "metadata": {},
     "output_type": "execute_result"
    }
   ],
   "source": [
    "cgm_train.head()"
   ]
  },
  {
   "cell_type": "code",
   "execution_count": 8,
   "id": "2c6f5788-21d7-4b8b-9f8b-5be921bfa42e",
   "metadata": {},
   "outputs": [
    {
     "data": {
      "text/html": [
       "<div>\n",
       "<style scoped>\n",
       "    .dataframe tbody tr th:only-of-type {\n",
       "        vertical-align: middle;\n",
       "    }\n",
       "\n",
       "    .dataframe tbody tr th {\n",
       "        vertical-align: top;\n",
       "    }\n",
       "\n",
       "    .dataframe thead th {\n",
       "        text-align: right;\n",
       "    }\n",
       "</style>\n",
       "<table border=\"1\" class=\"dataframe\">\n",
       "  <thead>\n",
       "    <tr style=\"text-align: right;\">\n",
       "      <th></th>\n",
       "      <th>Subject ID</th>\n",
       "      <th>Age</th>\n",
       "      <th>Gender</th>\n",
       "      <th>Weight</th>\n",
       "      <th>Height</th>\n",
       "      <th>Race</th>\n",
       "      <th>Diabetes Status</th>\n",
       "      <th>A1C</th>\n",
       "      <th>Baseline Fasting Glucose</th>\n",
       "      <th>Insulin</th>\n",
       "      <th>Triglycerides</th>\n",
       "      <th>Cholesterol</th>\n",
       "      <th>HDL</th>\n",
       "      <th>Non-HDL</th>\n",
       "      <th>LDL</th>\n",
       "      <th>VLDL</th>\n",
       "      <th>CHO/HDL Ratio</th>\n",
       "      <th>HOMA-IR</th>\n",
       "      <th>BMI</th>\n",
       "      <th>Viome</th>\n",
       "    </tr>\n",
       "  </thead>\n",
       "  <tbody>\n",
       "    <tr>\n",
       "      <th>0</th>\n",
       "      <td>1</td>\n",
       "      <td>27</td>\n",
       "      <td>0</td>\n",
       "      <td>133.8</td>\n",
       "      <td>65.00</td>\n",
       "      <td>Hispanic/Latino</td>\n",
       "      <td>1</td>\n",
       "      <td>5.4</td>\n",
       "      <td>91.0</td>\n",
       "      <td>2.5</td>\n",
       "      <td>67.0</td>\n",
       "      <td>216.0</td>\n",
       "      <td>74.0</td>\n",
       "      <td>142.0</td>\n",
       "      <td>130.0</td>\n",
       "      <td>13.0</td>\n",
       "      <td>2.9</td>\n",
       "      <td>0.561728</td>\n",
       "      <td>22.263053</td>\n",
       "      <td>-11.691621427726268,-7.744787588227839,-7.6142...</td>\n",
       "    </tr>\n",
       "    <tr>\n",
       "      <th>1</th>\n",
       "      <td>2</td>\n",
       "      <td>49</td>\n",
       "      <td>1</td>\n",
       "      <td>169.2</td>\n",
       "      <td>62.00</td>\n",
       "      <td>Hispanic/Latino</td>\n",
       "      <td>1</td>\n",
       "      <td>5.5</td>\n",
       "      <td>93.0</td>\n",
       "      <td>14.8</td>\n",
       "      <td>61.0</td>\n",
       "      <td>181.0</td>\n",
       "      <td>91.0</td>\n",
       "      <td>90.0</td>\n",
       "      <td>78.0</td>\n",
       "      <td>12.0</td>\n",
       "      <td>2.0</td>\n",
       "      <td>3.398519</td>\n",
       "      <td>30.943704</td>\n",
       "      <td>-9.395216776716872,-7.315438412832852,1.103724...</td>\n",
       "    </tr>\n",
       "    <tr>\n",
       "      <th>2</th>\n",
       "      <td>3</td>\n",
       "      <td>59</td>\n",
       "      <td>1</td>\n",
       "      <td>157.0</td>\n",
       "      <td>64.00</td>\n",
       "      <td>Hispanic/Latino</td>\n",
       "      <td>3</td>\n",
       "      <td>6.5</td>\n",
       "      <td>118.0</td>\n",
       "      <td>17.4</td>\n",
       "      <td>154.0</td>\n",
       "      <td>190.0</td>\n",
       "      <td>74.0</td>\n",
       "      <td>116.0</td>\n",
       "      <td>90.0</td>\n",
       "      <td>31.0</td>\n",
       "      <td>2.6</td>\n",
       "      <td>5.069630</td>\n",
       "      <td>26.946045</td>\n",
       "      <td>-11.007947281293239,-8.444134921199856,0.28806...</td>\n",
       "    </tr>\n",
       "    <tr>\n",
       "      <th>3</th>\n",
       "      <td>5</td>\n",
       "      <td>51</td>\n",
       "      <td>1</td>\n",
       "      <td>172.0</td>\n",
       "      <td>62.50</td>\n",
       "      <td>Hispanic/Latino</td>\n",
       "      <td>3</td>\n",
       "      <td>6.6</td>\n",
       "      <td>144.0</td>\n",
       "      <td>12.9</td>\n",
       "      <td>392.0</td>\n",
       "      <td>269.0</td>\n",
       "      <td>38.0</td>\n",
       "      <td>231.0</td>\n",
       "      <td>157.0</td>\n",
       "      <td>78.0</td>\n",
       "      <td>7.1</td>\n",
       "      <td>4.586667</td>\n",
       "      <td>30.954496</td>\n",
       "      <td>-6.21833166351615,-5.868646092839025,-6.612900...</td>\n",
       "    </tr>\n",
       "    <tr>\n",
       "      <th>4</th>\n",
       "      <td>6</td>\n",
       "      <td>51</td>\n",
       "      <td>1</td>\n",
       "      <td>197.0</td>\n",
       "      <td>68.75</td>\n",
       "      <td>White</td>\n",
       "      <td>1</td>\n",
       "      <td>5.2</td>\n",
       "      <td>96.0</td>\n",
       "      <td>6.4</td>\n",
       "      <td>75.0</td>\n",
       "      <td>203.0</td>\n",
       "      <td>72.0</td>\n",
       "      <td>131.0</td>\n",
       "      <td>118.0</td>\n",
       "      <td>15.0</td>\n",
       "      <td>2.8</td>\n",
       "      <td>1.517037</td>\n",
       "      <td>29.300575</td>\n",
       "      <td>-6.7953636871125,-6.50799421035929,-1.85678011...</td>\n",
       "    </tr>\n",
       "  </tbody>\n",
       "</table>\n",
       "</div>"
      ],
      "text/plain": [
       "   Subject ID  Age  Gender  Weight  Height             Race  Diabetes Status  \\\n",
       "0           1   27       0   133.8   65.00  Hispanic/Latino                1   \n",
       "1           2   49       1   169.2   62.00  Hispanic/Latino                1   \n",
       "2           3   59       1   157.0   64.00  Hispanic/Latino                3   \n",
       "3           5   51       1   172.0   62.50  Hispanic/Latino                3   \n",
       "4           6   51       1   197.0   68.75            White                1   \n",
       "\n",
       "   A1C  Baseline Fasting Glucose  Insulin  Triglycerides  Cholesterol   HDL  \\\n",
       "0  5.4                      91.0      2.5           67.0        216.0  74.0   \n",
       "1  5.5                      93.0     14.8           61.0        181.0  91.0   \n",
       "2  6.5                     118.0     17.4          154.0        190.0  74.0   \n",
       "3  6.6                     144.0     12.9          392.0        269.0  38.0   \n",
       "4  5.2                      96.0      6.4           75.0        203.0  72.0   \n",
       "\n",
       "   Non-HDL    LDL  VLDL  CHO/HDL Ratio   HOMA-IR        BMI  \\\n",
       "0    142.0  130.0  13.0            2.9  0.561728  22.263053   \n",
       "1     90.0   78.0  12.0            2.0  3.398519  30.943704   \n",
       "2    116.0   90.0  31.0            2.6  5.069630  26.946045   \n",
       "3    231.0  157.0  78.0            7.1  4.586667  30.954496   \n",
       "4    131.0  118.0  15.0            2.8  1.517037  29.300575   \n",
       "\n",
       "                                               Viome  \n",
       "0  -11.691621427726268,-7.744787588227839,-7.6142...  \n",
       "1  -9.395216776716872,-7.315438412832852,1.103724...  \n",
       "2  -11.007947281293239,-8.444134921199856,0.28806...  \n",
       "3  -6.21833166351615,-5.868646092839025,-6.612900...  \n",
       "4  -6.7953636871125,-6.50799421035929,-1.85678011...  "
      ]
     },
     "execution_count": 8,
     "metadata": {},
     "output_type": "execute_result"
    }
   ],
   "source": [
    "demo_viome_train.head()"
   ]
  },
  {
   "cell_type": "code",
   "execution_count": 14,
   "id": "854b0d7c-dfc3-4daa-9a28-cb1682b5922f",
   "metadata": {},
   "outputs": [
    {
     "data": {
      "text/plain": [
       "((36, 20), (324, 6), (324, 5))"
      ]
     },
     "execution_count": 14,
     "metadata": {},
     "output_type": "execute_result"
    }
   ],
   "source": [
    "demo_viome_train.shape, img_train.shape, cgm_train.shape"
   ]
  },
  {
   "cell_type": "code",
   "execution_count": 12,
   "id": "25b1ecc0-c476-46e4-b98f-870f01823fb4",
   "metadata": {},
   "outputs": [
    {
     "data": {
      "text/html": [
       "<div>\n",
       "<style scoped>\n",
       "    .dataframe tbody tr th:only-of-type {\n",
       "        vertical-align: middle;\n",
       "    }\n",
       "\n",
       "    .dataframe tbody tr th {\n",
       "        vertical-align: top;\n",
       "    }\n",
       "\n",
       "    .dataframe thead th {\n",
       "        text-align: right;\n",
       "    }\n",
       "</style>\n",
       "<table border=\"1\" class=\"dataframe\">\n",
       "  <thead>\n",
       "    <tr style=\"text-align: right;\">\n",
       "      <th></th>\n",
       "      <th>Subject ID</th>\n",
       "      <th>Day</th>\n",
       "      <th>Breakfast Fiber</th>\n",
       "      <th>Lunch Fiber</th>\n",
       "      <th>Image Before Breakfast</th>\n",
       "      <th>Image Before Lunch</th>\n",
       "    </tr>\n",
       "  </thead>\n",
       "  <tbody>\n",
       "    <tr>\n",
       "      <th>0</th>\n",
       "      <td>1</td>\n",
       "      <td>2</td>\n",
       "      <td>0.0</td>\n",
       "      <td>10</td>\n",
       "      <td>[[[140, 122, 108], [135, 118, 104], [118, 104,...</td>\n",
       "      <td>[[[41, 152, 201], [77, 164, 205], [88, 157, 13...</td>\n",
       "    </tr>\n",
       "    <tr>\n",
       "      <th>1</th>\n",
       "      <td>1</td>\n",
       "      <td>3</td>\n",
       "      <td>0.0</td>\n",
       "      <td>4</td>\n",
       "      <td>[[[67, 58, 47], [59, 52, 41], [51, 45, 35], [4...</td>\n",
       "      <td>[[[40, 59, 77], [35, 56, 72], [20, 36, 47], [9...</td>\n",
       "    </tr>\n",
       "    <tr>\n",
       "      <th>2</th>\n",
       "      <td>1</td>\n",
       "      <td>4</td>\n",
       "      <td>0.0</td>\n",
       "      <td>5</td>\n",
       "      <td>[[[199, 195, 193], [198, 193, 192], [196, 192,...</td>\n",
       "      <td>[[[53, 44, 38], [51, 43, 36], [54, 47, 39], [4...</td>\n",
       "    </tr>\n",
       "    <tr>\n",
       "      <th>3</th>\n",
       "      <td>1</td>\n",
       "      <td>5</td>\n",
       "      <td>7.0</td>\n",
       "      <td>5</td>\n",
       "      <td>[[[149, 121, 80], [157, 128, 86], [159, 130, 8...</td>\n",
       "      <td>[[[30, 28, 28], [20, 18, 17], [31, 27, 23], [2...</td>\n",
       "    </tr>\n",
       "    <tr>\n",
       "      <th>4</th>\n",
       "      <td>1</td>\n",
       "      <td>6</td>\n",
       "      <td>0.0</td>\n",
       "      <td>18</td>\n",
       "      <td>[[[175, 184, 198], [192, 206, 219], [160, 165,...</td>\n",
       "      <td>[[[74, 85, 100], [59, 69, 81], [73, 84, 96], [...</td>\n",
       "    </tr>\n",
       "  </tbody>\n",
       "</table>\n",
       "</div>"
      ],
      "text/plain": [
       "   Subject ID  Day  Breakfast Fiber  Lunch Fiber  \\\n",
       "0           1    2              0.0           10   \n",
       "1           1    3              0.0            4   \n",
       "2           1    4              0.0            5   \n",
       "3           1    5              7.0            5   \n",
       "4           1    6              0.0           18   \n",
       "\n",
       "                              Image Before Breakfast  \\\n",
       "0  [[[140, 122, 108], [135, 118, 104], [118, 104,...   \n",
       "1  [[[67, 58, 47], [59, 52, 41], [51, 45, 35], [4...   \n",
       "2  [[[199, 195, 193], [198, 193, 192], [196, 192,...   \n",
       "3  [[[149, 121, 80], [157, 128, 86], [159, 130, 8...   \n",
       "4  [[[175, 184, 198], [192, 206, 219], [160, 165,...   \n",
       "\n",
       "                                  Image Before Lunch  \n",
       "0  [[[41, 152, 201], [77, 164, 205], [88, 157, 13...  \n",
       "1  [[[40, 59, 77], [35, 56, 72], [20, 36, 47], [9...  \n",
       "2  [[[53, 44, 38], [51, 43, 36], [54, 47, 39], [4...  \n",
       "3  [[[30, 28, 28], [20, 18, 17], [31, 27, 23], [2...  \n",
       "4  [[[74, 85, 100], [59, 69, 81], [73, 84, 96], [...  "
      ]
     },
     "execution_count": 12,
     "metadata": {},
     "output_type": "execute_result"
    }
   ],
   "source": [
    "img_train.head()"
   ]
  },
  {
   "cell_type": "markdown",
   "id": "9751a493",
   "metadata": {
    "id": "9751a493"
   },
   "source": [
    "# data visualization"
   ]
  },
  {
   "cell_type": "code",
   "execution_count": null,
   "id": "864b4949",
   "metadata": {
    "colab": {
     "base_uri": "https://localhost:8080/",
     "height": 241
    },
    "id": "864b4949",
    "outputId": "dd4a98f2-c173-4b7d-8d51-ed33b67e21c1"
   },
   "outputs": [
    {
     "data": {
      "text/html": [
       "<div>\n",
       "<style scoped>\n",
       "    .dataframe tbody tr th:only-of-type {\n",
       "        vertical-align: middle;\n",
       "    }\n",
       "\n",
       "    .dataframe tbody tr th {\n",
       "        vertical-align: top;\n",
       "    }\n",
       "\n",
       "    .dataframe thead th {\n",
       "        text-align: right;\n",
       "    }\n",
       "</style>\n",
       "<table border=\"1\" class=\"dataframe\">\n",
       "  <thead>\n",
       "    <tr style=\"text-align: right;\">\n",
       "      <th></th>\n",
       "      <th>0</th>\n",
       "    </tr>\n",
       "  </thead>\n",
       "  <tbody>\n",
       "    <tr>\n",
       "      <th>Subject ID</th>\n",
       "      <td>0</td>\n",
       "    </tr>\n",
       "    <tr>\n",
       "      <th>Day</th>\n",
       "      <td>0</td>\n",
       "    </tr>\n",
       "    <tr>\n",
       "      <th>Breakfast Time</th>\n",
       "      <td>0</td>\n",
       "    </tr>\n",
       "    <tr>\n",
       "      <th>Lunch Time</th>\n",
       "      <td>0</td>\n",
       "    </tr>\n",
       "    <tr>\n",
       "      <th>CGM Data</th>\n",
       "      <td>0</td>\n",
       "    </tr>\n",
       "  </tbody>\n",
       "</table>\n",
       "</div><br><label><b>dtype:</b> int64</label>"
      ],
      "text/plain": [
       "Subject ID        0\n",
       "Day               0\n",
       "Breakfast Time    0\n",
       "Lunch Time        0\n",
       "CGM Data          0\n",
       "dtype: int64"
      ]
     },
     "execution_count": 21,
     "metadata": {},
     "output_type": "execute_result"
    }
   ],
   "source": [
    "cgm_train.isnull().sum()"
   ]
  },
  {
   "cell_type": "code",
   "execution_count": null,
   "id": "07cc345d",
   "metadata": {
    "colab": {
     "base_uri": "https://localhost:8080/",
     "height": 711
    },
    "id": "07cc345d",
    "outputId": "f6a596ab-74ee-4186-86df-0b556e743393"
   },
   "outputs": [
    {
     "data": {
      "text/html": [
       "<div>\n",
       "<style scoped>\n",
       "    .dataframe tbody tr th:only-of-type {\n",
       "        vertical-align: middle;\n",
       "    }\n",
       "\n",
       "    .dataframe tbody tr th {\n",
       "        vertical-align: top;\n",
       "    }\n",
       "\n",
       "    .dataframe thead th {\n",
       "        text-align: right;\n",
       "    }\n",
       "</style>\n",
       "<table border=\"1\" class=\"dataframe\">\n",
       "  <thead>\n",
       "    <tr style=\"text-align: right;\">\n",
       "      <th></th>\n",
       "      <th>0</th>\n",
       "    </tr>\n",
       "  </thead>\n",
       "  <tbody>\n",
       "    <tr>\n",
       "      <th>Subject ID</th>\n",
       "      <td>0</td>\n",
       "    </tr>\n",
       "    <tr>\n",
       "      <th>Age</th>\n",
       "      <td>0</td>\n",
       "    </tr>\n",
       "    <tr>\n",
       "      <th>Gender</th>\n",
       "      <td>0</td>\n",
       "    </tr>\n",
       "    <tr>\n",
       "      <th>Weight</th>\n",
       "      <td>0</td>\n",
       "    </tr>\n",
       "    <tr>\n",
       "      <th>Height</th>\n",
       "      <td>0</td>\n",
       "    </tr>\n",
       "    <tr>\n",
       "      <th>Race</th>\n",
       "      <td>0</td>\n",
       "    </tr>\n",
       "    <tr>\n",
       "      <th>Diabetes Status</th>\n",
       "      <td>0</td>\n",
       "    </tr>\n",
       "    <tr>\n",
       "      <th>A1C</th>\n",
       "      <td>0</td>\n",
       "    </tr>\n",
       "    <tr>\n",
       "      <th>Baseline Fasting Glucose</th>\n",
       "      <td>0</td>\n",
       "    </tr>\n",
       "    <tr>\n",
       "      <th>Insulin</th>\n",
       "      <td>0</td>\n",
       "    </tr>\n",
       "    <tr>\n",
       "      <th>Triglycerides</th>\n",
       "      <td>0</td>\n",
       "    </tr>\n",
       "    <tr>\n",
       "      <th>Cholesterol</th>\n",
       "      <td>0</td>\n",
       "    </tr>\n",
       "    <tr>\n",
       "      <th>HDL</th>\n",
       "      <td>0</td>\n",
       "    </tr>\n",
       "    <tr>\n",
       "      <th>Non-HDL</th>\n",
       "      <td>0</td>\n",
       "    </tr>\n",
       "    <tr>\n",
       "      <th>LDL</th>\n",
       "      <td>0</td>\n",
       "    </tr>\n",
       "    <tr>\n",
       "      <th>VLDL</th>\n",
       "      <td>0</td>\n",
       "    </tr>\n",
       "    <tr>\n",
       "      <th>CHO/HDL Ratio</th>\n",
       "      <td>0</td>\n",
       "    </tr>\n",
       "    <tr>\n",
       "      <th>HOMA-IR</th>\n",
       "      <td>0</td>\n",
       "    </tr>\n",
       "    <tr>\n",
       "      <th>BMI</th>\n",
       "      <td>0</td>\n",
       "    </tr>\n",
       "    <tr>\n",
       "      <th>Viome</th>\n",
       "      <td>0</td>\n",
       "    </tr>\n",
       "  </tbody>\n",
       "</table>\n",
       "</div><br><label><b>dtype:</b> int64</label>"
      ],
      "text/plain": [
       "Subject ID                  0\n",
       "Age                         0\n",
       "Gender                      0\n",
       "Weight                      0\n",
       "Height                      0\n",
       "Race                        0\n",
       "Diabetes Status             0\n",
       "A1C                         0\n",
       "Baseline Fasting Glucose    0\n",
       "Insulin                     0\n",
       "Triglycerides               0\n",
       "Cholesterol                 0\n",
       "HDL                         0\n",
       "Non-HDL                     0\n",
       "LDL                         0\n",
       "VLDL                        0\n",
       "CHO/HDL Ratio               0\n",
       "HOMA-IR                     0\n",
       "BMI                         0\n",
       "Viome                       0\n",
       "dtype: int64"
      ]
     },
     "execution_count": 22,
     "metadata": {},
     "output_type": "execute_result"
    }
   ],
   "source": [
    "demo_viome_train.isnull().sum()"
   ]
  },
  {
   "cell_type": "code",
   "execution_count": null,
   "id": "cc516b91",
   "metadata": {
    "colab": {
     "base_uri": "https://localhost:8080/",
     "height": 272
    },
    "id": "cc516b91",
    "outputId": "4a2ba36b-1195-4923-8988-0f45bd4918c5"
   },
   "outputs": [
    {
     "data": {
      "text/html": [
       "<div>\n",
       "<style scoped>\n",
       "    .dataframe tbody tr th:only-of-type {\n",
       "        vertical-align: middle;\n",
       "    }\n",
       "\n",
       "    .dataframe tbody tr th {\n",
       "        vertical-align: top;\n",
       "    }\n",
       "\n",
       "    .dataframe thead th {\n",
       "        text-align: right;\n",
       "    }\n",
       "</style>\n",
       "<table border=\"1\" class=\"dataframe\">\n",
       "  <thead>\n",
       "    <tr style=\"text-align: right;\">\n",
       "      <th></th>\n",
       "      <th>0</th>\n",
       "    </tr>\n",
       "  </thead>\n",
       "  <tbody>\n",
       "    <tr>\n",
       "      <th>Subject ID</th>\n",
       "      <td>0</td>\n",
       "    </tr>\n",
       "    <tr>\n",
       "      <th>Day</th>\n",
       "      <td>0</td>\n",
       "    </tr>\n",
       "    <tr>\n",
       "      <th>Breakfast Fiber</th>\n",
       "      <td>2</td>\n",
       "    </tr>\n",
       "    <tr>\n",
       "      <th>Lunch Fiber</th>\n",
       "      <td>0</td>\n",
       "    </tr>\n",
       "    <tr>\n",
       "      <th>Image Before Breakfast</th>\n",
       "      <td>0</td>\n",
       "    </tr>\n",
       "    <tr>\n",
       "      <th>Image Before Lunch</th>\n",
       "      <td>0</td>\n",
       "    </tr>\n",
       "  </tbody>\n",
       "</table>\n",
       "</div><br><label><b>dtype:</b> int64</label>"
      ],
      "text/plain": [
       "Subject ID                0\n",
       "Day                       0\n",
       "Breakfast Fiber           2\n",
       "Lunch Fiber               0\n",
       "Image Before Breakfast    0\n",
       "Image Before Lunch        0\n",
       "dtype: int64"
      ]
     },
     "execution_count": 23,
     "metadata": {},
     "output_type": "execute_result"
    }
   ],
   "source": [
    "img_train.isnull().sum()"
   ]
  },
  {
   "cell_type": "code",
   "execution_count": null,
   "id": "sjtZJ_2Xi-UD",
   "metadata": {
    "id": "sjtZJ_2Xi-UD"
   },
   "outputs": [],
   "source": [
    "img_train.dropna(inplace=True)"
   ]
  },
  {
   "cell_type": "code",
   "execution_count": null,
   "id": "5c39f8d3",
   "metadata": {
    "colab": {
     "base_uri": "https://localhost:8080/",
     "height": 398
    },
    "id": "5c39f8d3",
    "outputId": "e74c30c9-ee92-4691-8aae-53927effcf4e"
   },
   "outputs": [
    {
     "data": {
      "text/html": [
       "<div>\n",
       "<style scoped>\n",
       "    .dataframe tbody tr th:only-of-type {\n",
       "        vertical-align: middle;\n",
       "    }\n",
       "\n",
       "    .dataframe tbody tr th {\n",
       "        vertical-align: top;\n",
       "    }\n",
       "\n",
       "    .dataframe thead th {\n",
       "        text-align: right;\n",
       "    }\n",
       "</style>\n",
       "<table border=\"1\" class=\"dataframe\">\n",
       "  <thead>\n",
       "    <tr style=\"text-align: right;\">\n",
       "      <th></th>\n",
       "      <th>0</th>\n",
       "    </tr>\n",
       "  </thead>\n",
       "  <tbody>\n",
       "    <tr>\n",
       "      <th>Subject ID</th>\n",
       "      <td>0</td>\n",
       "    </tr>\n",
       "    <tr>\n",
       "      <th>Day</th>\n",
       "      <td>0</td>\n",
       "    </tr>\n",
       "    <tr>\n",
       "      <th>Breakfast Calories</th>\n",
       "      <td>0</td>\n",
       "    </tr>\n",
       "    <tr>\n",
       "      <th>Lunch Calories</th>\n",
       "      <td>0</td>\n",
       "    </tr>\n",
       "    <tr>\n",
       "      <th>Breakfast Carbs</th>\n",
       "      <td>0</td>\n",
       "    </tr>\n",
       "    <tr>\n",
       "      <th>Lunch Carbs</th>\n",
       "      <td>0</td>\n",
       "    </tr>\n",
       "    <tr>\n",
       "      <th>Breakfast Fat</th>\n",
       "      <td>0</td>\n",
       "    </tr>\n",
       "    <tr>\n",
       "      <th>Lunch Fat</th>\n",
       "      <td>0</td>\n",
       "    </tr>\n",
       "    <tr>\n",
       "      <th>Breakfast Protein</th>\n",
       "      <td>0</td>\n",
       "    </tr>\n",
       "    <tr>\n",
       "      <th>Lunch Protein</th>\n",
       "      <td>0</td>\n",
       "    </tr>\n",
       "  </tbody>\n",
       "</table>\n",
       "</div><br><label><b>dtype:</b> int64</label>"
      ],
      "text/plain": [
       "Subject ID            0\n",
       "Day                   0\n",
       "Breakfast Calories    0\n",
       "Lunch Calories        0\n",
       "Breakfast Carbs       0\n",
       "Lunch Carbs           0\n",
       "Breakfast Fat         0\n",
       "Lunch Fat             0\n",
       "Breakfast Protein     0\n",
       "Lunch Protein         0\n",
       "dtype: int64"
      ]
     },
     "execution_count": 24,
     "metadata": {},
     "output_type": "execute_result"
    }
   ],
   "source": [
    "label_train.isnull().sum()"
   ]
  },
  {
   "cell_type": "code",
   "execution_count": null,
   "id": "2e7c0fd3",
   "metadata": {
    "colab": {
     "base_uri": "https://localhost:8080/"
    },
    "id": "2e7c0fd3",
    "outputId": "5ff88263-3834-4a01-cfc4-08b9d0c4cd81"
   },
   "outputs": [
    {
     "data": {
      "text/plain": [
       "((322, 6), (324, 5), (36, 20), (324, 10))"
      ]
     },
     "execution_count": 36,
     "metadata": {},
     "output_type": "execute_result"
    }
   ],
   "source": [
    "img_train.shape, cgm_train.shape, demo_viome_train.shape, label_train.shape"
   ]
  },
  {
   "cell_type": "code",
   "execution_count": null,
   "id": "5c6a145f",
   "metadata": {
    "id": "5c6a145f"
   },
   "outputs": [],
   "source": [
    "df = pd.DataFrame(cgm_train)"
   ]
  },
  {
   "cell_type": "code",
   "execution_count": null,
   "id": "43707ade",
   "metadata": {
    "id": "43707ade"
   },
   "outputs": [],
   "source": []
  },
  {
   "cell_type": "code",
   "execution_count": null,
   "id": "770679d7",
   "metadata": {
    "id": "770679d7"
   },
   "outputs": [],
   "source": []
  },
  {
   "cell_type": "code",
   "execution_count": null,
   "id": "70bd9552",
   "metadata": {
    "id": "70bd9552"
   },
   "outputs": [],
   "source": [
    "import torch\n",
    "from torch.utils.data import Dataset, DataLoader\n",
    "\n",
    "class MultimodalDataset(Dataset):\n",
    "    def __init__(self, text_data, image_data, numerical_data, labels):\n",
    "        \"\"\"\n",
    "        Args:\n",
    "            text_data (list or tensor): Text modality data.\n",
    "            image_data (list or tensor): Image modality data.\n",
    "            numerical_data (list or tensor): Numerical modality data.\n",
    "            labels (list or tensor): Labels for each sample.\n",
    "        \"\"\"\n",
    "        self.text_data = text_data\n",
    "        self.image_data = image_data\n",
    "        self.numerical_data = numerical_data\n",
    "        self.labels = labels\n",
    "\n",
    "    def __len__(self):\n",
    "        return len(self.labels)\n",
    "\n",
    "    def __getitem__(self, idx):\n",
    "        text = self.text_data[idx]\n",
    "        image = self.image_data[idx]\n",
    "        numerical = self.numerical_data[idx]\n",
    "        label = self.labels[idx]\n",
    "\n",
    "        return {\"text\": text, \"image\": image, \"numerical\": numerical, \"label\": label}\n"
   ]
  },
  {
   "cell_type": "code",
   "execution_count": null,
   "id": "ba650292",
   "metadata": {
    "id": "ba650292"
   },
   "outputs": [],
   "source": [
    "# Example data\n",
    "text_data = torch.randn(100, 300)  # 100 samples, 300-dimensional text embeddings\n",
    "image_data = torch.randn(100, 3, 224, 224)  # 100 samples, 3x224x224 images\n",
    "numerical_data = torch.randn(100, 10)  # 100 samples, 10 numerical features\n",
    "labels = torch.randint(0, 2, (100,))  # Binary labels (0 or 1) for 100 samples"
   ]
  },
  {
   "cell_type": "code",
   "execution_count": null,
   "id": "da5e63db",
   "metadata": {
    "id": "da5e63db"
   },
   "outputs": [],
   "source": [
    "dataset = MultimodalDataset(text_data, image_data, numerical_data, labels)\n",
    "\n",
    "# Create a DataLoader\n",
    "dataloader = DataLoader(dataset, batch_size=16, shuffle=True)\n"
   ]
  },
  {
   "cell_type": "code",
   "execution_count": null,
   "id": "57bed0c8",
   "metadata": {
    "colab": {
     "base_uri": "https://localhost:8080/"
    },
    "id": "57bed0c8",
    "outputId": "4e2e764b-44c6-445a-948d-00e48aa67131"
   },
   "outputs": [
    {
     "name": "stdout",
     "output_type": "stream",
     "text": [
      "Text shape: torch.Size([16, 300])\n",
      "Image shape: torch.Size([16, 3, 224, 224])\n",
      "Numerical shape: torch.Size([16, 10])\n",
      "Label shape: torch.Size([16])\n"
     ]
    }
   ],
   "source": [
    "for batch in dataloader:\n",
    "    text = batch[\"text\"]         # Text embeddings (batch_size, 300)\n",
    "    image = batch[\"image\"]       # Image tensors (batch_size, 3, 224, 224)\n",
    "    numerical = batch[\"numerical\"]  # Numerical features (batch_size, 10)\n",
    "    label = batch[\"label\"]       # Labels (batch_size,)\n",
    "\n",
    "    print(\"Text shape:\", text.shape)\n",
    "    print(\"Image shape:\", image.shape)\n",
    "    print(\"Numerical shape:\", numerical.shape)\n",
    "    print(\"Label shape:\", label.shape)\n",
    "    break"
   ]
  },
  {
   "cell_type": "code",
   "execution_count": null,
   "id": "5f32f487",
   "metadata": {
    "id": "5f32f487"
   },
   "outputs": [],
   "source": []
  }
 ],
 "metadata": {
  "colab": {
   "provenance": []
  },
  "kernelspec": {
   "display_name": "Python 3 (ipykernel)",
   "language": "python",
   "name": "python3"
  },
  "language_info": {
   "codemirror_mode": {
    "name": "ipython",
    "version": 3
   },
   "file_extension": ".py",
   "mimetype": "text/x-python",
   "name": "python",
   "nbconvert_exporter": "python",
   "pygments_lexer": "ipython3",
   "version": "3.13.0"
  }
 },
 "nbformat": 4,
 "nbformat_minor": 5
}
